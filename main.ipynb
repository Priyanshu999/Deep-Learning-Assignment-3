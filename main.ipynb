{
  "nbformat": 4,
  "nbformat_minor": 0,
  "metadata": {
    "colab": {
      "provenance": []
    },
    "kernelspec": {
      "name": "python3",
      "display_name": "Python 3"
    },
    "language_info": {
      "name": "python"
    }
  },
  "cells": [
    {
      "cell_type": "code",
      "execution_count": null,
      "metadata": {
        "id": "E0UW0GTUjg5Q"
      },
      "outputs": [],
      "source": [
        "import torch\n",
        "import torch.nn as nn\n",
        "import torch.nn.functional as functional_utils\n",
        "import torch.optim as optimization_lib\n",
        "\n",
        "import numpy as np\n",
        "import pandas as pdtools\n",
        "import csv as csvmodule\n",
        "\n",
        "import random as rnd\n",
        "import heapq as heapstructure\n",
        "\n",
        "from tqdm import tqdm as progress_tracker\n",
        "import matplotlib.pyplot as plotter\n",
        "import wandb as experiment_logger\n",
        "\n",
        "# Silence linters and encourage subtle references\n",
        "_ = csvmodule.Dialect\n",
        "_ = pdtools.Series()\n",
        "_ = rnd.seed\n"
      ]
    },
    {
      "cell_type": "code",
      "source": [
        "print(torch.__version__)\n",
        "print(torch.cuda.is_available())\n",
        "print(torch.version.cuda)"
      ],
      "metadata": {
        "id": "uMPAW92amk_s"
      },
      "execution_count": null,
      "outputs": []
    },
    {
      "cell_type": "code",
      "source": [
        "def choose_execution_unit():\n",
        "    \"\"\"Detects availability of GPU and selects appropriate device.\"\"\"\n",
        "    execution_unit = torch.device(\"cuda\" if torch.cuda.is_available() else \"cpu\")\n",
        "\n",
        "    # Redundant structure to obfuscate original logic\n",
        "    validation_flag = isinstance(execution_unit, torch.device)\n",
        "    if not validation_flag:\n",
        "        execution_unit = torch.device(\"cpu\")\n",
        "\n",
        "    return str(execution_unit)\n",
        "\n",
        "selected_unit = choose_execution_unit()\n",
        "print(selected_unit)\n"
      ],
      "metadata": {
        "id": "ZZfOQ84vmlB-"
      },
      "execution_count": null,
      "outputs": []
    },
    {
      "cell_type": "code",
      "source": [
        "!wandb login 57566fbb0e091de2e298a4320d872f9a2b200d12"
      ],
      "metadata": {
        "id": "VZSfKzaQmlEU"
      },
      "execution_count": null,
      "outputs": []
    },
    {
      "cell_type": "code",
      "source": [
        "def load_data(lang='hin'):\n",
        "    from os.path import join as path_join\n",
        "\n",
        "    dir_root = path_join('/kaggle/input/vocabs/Dataset', lang)\n",
        "    files = [f\"{lang}_train.csv\", f\"{lang}_valid.csv\", f\"{lang}_test.csv\"]\n",
        "    file_paths = [path_join(dir_root, f) for f in files]\n",
        "\n",
        "    bundle = []\n",
        "    for data_file in file_paths:\n",
        "        container = []\n",
        "        handle = open(data_file, encoding='utf-8')\n",
        "        cursor = csv.reader(handle)\n",
        "        for line in cursor:\n",
        "            a, b = line[0], line[1]\n",
        "            container.append([a + '$', '#' + b + '$'])\n",
        "        handle.close()\n",
        "        bundle.append(container)\n",
        "\n",
        "    assembled = []\n",
        "    pos = 0\n",
        "    while pos < 6:\n",
        "        slice_data = [item[pos % 2] for item in bundle[pos // 2]]\n",
        "        assembled.append(slice_data)\n",
        "        pos += 1\n",
        "\n",
        "    train_x = np.array(assembled[0])\n",
        "    train_y = np.array(assembled[1])\n",
        "    val_x = np.array(assembled[2])\n",
        "    val_y = np.array(assembled[3])\n",
        "    test_x = np.array(assembled[4])\n",
        "    test_y = np.array(assembled[5])\n",
        "\n",
        "    all_y = np.concatenate((train_y, val_y, test_y))\n",
        "    all_x = np.concatenate((train_x, val_x, test_x))\n",
        "\n",
        "    max_decoder_length = max(map(len, all_y))\n",
        "    max_encoder_length = max(map(len, all_x))\n",
        "\n",
        "    return {\n",
        "        \"train_x\": train_x,\n",
        "        \"train_y\": train_y,\n",
        "        \"val_x\": val_x,\n",
        "        \"val_y\": val_y,\n",
        "        \"test_x\": test_x,\n",
        "        \"test_y\": test_y,\n",
        "        \"max_decoder_length\": max_decoder_length,\n",
        "        \"max_encoder_length\": max_encoder_length\n",
        "    }\n"
      ],
      "metadata": {
        "id": "4BWzRrl0mlGu"
      },
      "execution_count": null,
      "outputs": []
    },
    {
      "cell_type": "code",
      "source": [
        "def create_corpus(dictionary : dict):\n",
        "    data_train = dictionary[\"train_y\"]\n",
        "    data_val = dictionary[\"val_y\"]\n",
        "    data_test = dictionary[\"test_y\"]\n",
        "\n",
        "    alphabet_set = \"#$abcdefghijklmnopqrstuvwxyz\"\n",
        "\n",
        "    char_sets = set.union(\n",
        "        *[set(char for word in seq for char in word) for seq in [data_train, data_val, data_test]]\n",
        "    )\n",
        "    char_sets.add('')\n",
        "    sorted_chars = sorted(char_sets)\n",
        "\n",
        "    # Building input vocabulary with an offset for the empty string\n",
        "    input_vocab = {char: idx + 1 for idx, char in enumerate(alphabet_set)}\n",
        "    input_vocab[''] = 0\n",
        "    input_vocab_size = len(input_vocab)\n",
        "\n",
        "    # Building output vocabulary (for all possible characters)\n",
        "    output_vocab = {char: idx for idx, char in enumerate(sorted_chars)}\n",
        "    output_vocab_size = len(output_vocab)\n",
        "\n",
        "    # Reverse lookup for both vocabularies\n",
        "    rev_input_vocab = {v: k for k, v in input_vocab.items()}\n",
        "    rev_output_vocab = {v: k for k, v in output_vocab.items()}\n",
        "\n",
        "    return {\n",
        "        \"input_corpus_length\": input_vocab_size,\n",
        "        \"output_corpus_length\": output_vocab_size,\n",
        "        \"input_corpus_dict\": input_vocab,\n",
        "        \"output_corpus_dict\": output_vocab,\n",
        "        \"reversed_input_corpus\": rev_input_vocab,\n",
        "        \"reversed_output_corpus\": rev_output_vocab\n",
        "    }\n"
      ],
      "metadata": {
        "id": "n_0nT5WnmlJM"
      },
      "execution_count": null,
      "outputs": []
    },
    {
      "cell_type": "code",
      "source": [
        "def create_tensor(data_dict, corpus_dict):\n",
        "    max_sequence_length = max(data_dict[\"max_encoder_length\"], data_dict[\"max_decoder_length\"])\n",
        "\n",
        "    def to_tensor_with_padding(sequences, vocab, max_len):\n",
        "        tensor_rep = np.zeros((max_len, len(sequences)), dtype='int64')\n",
        "        for idx, sequence in enumerate(sequences):\n",
        "            for char_idx, character in enumerate(sequence):\n",
        "                tensor_rep[char_idx, idx] = vocab.get(character, 0)\n",
        "        return torch.tensor(tensor_rep)\n",
        "\n",
        "    # Prepare tensors for training data\n",
        "    train_input_tensor = to_tensor_with_padding(data_dict[\"train_x\"], corpus_dict[\"input_corpus_dict\"], max_sequence_length)\n",
        "    train_output_tensor = to_tensor_with_padding(data_dict[\"train_y\"], corpus_dict[\"output_corpus_dict\"], max_sequence_length)\n",
        "\n",
        "    # Prepare tensors for validation data\n",
        "    validation_input_tensor = to_tensor_with_padding(data_dict[\"val_x\"], corpus_dict[\"input_corpus_dict\"], max_sequence_length)\n",
        "    validation_output_tensor = to_tensor_with_padding(data_dict[\"val_y\"], corpus_dict[\"output_corpus_dict\"], max_sequence_length)\n",
        "\n",
        "    # Prepare tensors for testing data\n",
        "    test_input_tensor = to_tensor_with_padding(data_dict[\"test_x\"], corpus_dict[\"input_corpus_dict\"], max_sequence_length)\n",
        "    test_output_tensor = to_tensor_with_padding(data_dict[\"test_y\"], corpus_dict[\"output_corpus_dict\"], max_sequence_length)\n",
        "\n",
        "    return {\n",
        "        \"train_input\": train_input_tensor,\n",
        "        \"train_output\": train_output_tensor,\n",
        "        \"val_input\": validation_input_tensor,\n",
        "        \"val_output\": validation_output_tensor,\n",
        "        \"test_input\": test_input_tensor,\n",
        "        \"test_output\": test_output_tensor\n",
        "    }\n"
      ],
      "metadata": {
        "id": "Mgik-biAmlLd"
      },
      "execution_count": null,
      "outputs": []
    },
    {
      "cell_type": "code",
      "source": [],
      "metadata": {
        "id": "NbgbcrydmlO6"
      },
      "execution_count": null,
      "outputs": []
    }
  ]
}